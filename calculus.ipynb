{
 "cells": [
  {
   "cell_type": "markdown",
   "metadata": {},
   "source": [
    "# 不等式 (Inequalities)\n",
    "\n",
    "## 相加・相乗平均の不等式\n",
    "\n",
    "$x_1, \\dots, x_n$を非負の実数とする。**相加平均** (算術平均)$\\frac{\\sum_i{x_i}}{n}$は**相乗平均** (幾何平均)$(\\prod_ix_i)^\\frac{1}{n}$よりも小さくなることはない。\n",
    "\n",
    "$\\frac{\\sum_{i=1}^n{x_i}}{n} \\ge (\\prod_{i=1}^nx_i)^\\frac{1}{n}$\n",
    "\n",
    "<p style=\"margin-left: 120px; font-size: 12px;\">\n",
    "$n = 2$のとき、相加・相乗平均の不等式は、<br>\n",
    "\n",
    "$\\frac{1}{2}(x + y) \\ge \\sqrt{xy}$<br>\n",
    "\n",
    "これは以下の様に導ける。<br>\n",
    "\n",
    "$(\\sqrt{x} - \\sqrt{y})^2 \\ge 0$<br>\n",
    "\n",
    "$x + y - 2\\sqrt{xy} \\ge 0$<br>\n",
    "\n",
    "$\\frac{1}{2}(x + y) \\ge \\sqrt{xy}$\n",
    "</p>\n",
    "\n",
    "## イェンゼンの不等式\n",
    "\n",
    "関数fが凸(convex)であるとき、$\\sum_i\\lambda_i = 1$ならば、\n",
    "\n",
    "$f(\\sum_i\\lambda_ix_i) \\le \\sum_i\\lambda_i f(x_i)$\n",
    "\n",
    "が成り立つ。\n",
    "\n",
    "イェンゼンの不等式において、ｆを指数関数$a_i = f(x_i) = b^{x_i}$、$\\lambda_i = \\frac{1}{n}$とおくと、相加・相乗平均の不等式になる。\n",
    "\n",
    "<p style=\"margin-left: 120px; font-size: 12px;\">\n",
    "指数関数の２階微分は正なので、指数関数は凸関数である。<br>\n",
    "\n",
    "$b^{\\sum_i\\lambda_ix_i} \\le \\sum_i\\lambda_i b^{x_i}$<br>\n",
    "\n",
    "$\\prod_i (b^{x_i})^{\\lambda_i} \\le \\sum_i\\lambda_i b^{x_i}$<br>\n",
    "\n",
    "$\\prod_i a_i^{\\lambda_i} \\le \\sum_i\\lambda_i a_i$<br>\n",
    "\n",
    "これは重み付き相加・相乗平均の不等式と呼ばれる。$\\lambda_i = \\frac{1}{n}$のとき、<br>\n",
    "\n",
    "$(\\prod_{i=1}^nx_i)^\\frac{1}{n} \\le \\frac{\\sum_{i=1}^n{x_i}}{n}$<br>\n",
    "\n",
    "なので、相加・相乗平均の不等式となる。\n",
    "</p>\n",
    "\n",
    "## コーシー・シュワルツの不等式\n",
    "\n",
    "## ミンコフスキーの不等式\n"
   ]
  }
 ],
 "metadata": {
  "kernelspec": {
   "display_name": "Python 3",
   "language": "python",
   "name": "python3"
  },
  "language_info": {
   "codemirror_mode": {
    "name": "ipython",
    "version": 3
   },
   "file_extension": ".py",
   "mimetype": "text/x-python",
   "name": "python",
   "nbconvert_exporter": "python",
   "pygments_lexer": "ipython3",
   "version": "3.5.1"
  }
 },
 "nbformat": 4,
 "nbformat_minor": 0
}
