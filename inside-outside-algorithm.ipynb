{
 "cells": [
  {
   "cell_type": "markdown",
   "metadata": {},
   "source": [
    "# Inside-outside algorithm\n",
    "\n",
    "https://www.cs.jhu.edu/~jason/papers/eisner.spnlp16.pdf\n"
   ]
  },
  {
   "cell_type": "markdown",
   "metadata": {},
   "source": [
    "# Definitions and Notations\n",
    "\n",
    "- $\\Sigma$: terminal symbols\n",
    "- $\\mathcal{N}$: nonterminal symbols\n",
    "- $\\mathrm{ROOT}$: special nonterminal symbol\n",
    "- derivation $T$: a rooted, ordered tree whose leaves are labeled with elements of $\\Sigma$ and whose internal nodes are labeled with elements of $\\mathcal{N}$\n",
    "- production rule $T_t$: the internal node $t$ uses the production rule $A \\to \\sigma$ if $A \\in \\mathcal{N}$ is the label of $t$ and $\\sigma \\in (\\Sigma \\cup \\mathcal{N})^∗$ is the sequence of labels of its children (in order)\n",
    "- Chomsky Normal Form (CNF): those for which each rule $T_t$ has the form $A \\to BC$ or $A \\to w$ for some $A,B,C \\in \\mathcal{N}$ and $w \\in \\Sigma$.\n",
    "- $\\mathcal{R}$: the set of all possible rules of CNF (or other forms if specified)\n",
    "- $\\mathcal{R}[A]$: the subset rules with $A$ to the left of the arrow\n",
    "- fringe: the sequence of labels of leaves in parse\n",
    "- parse: The CNF derivation $T$ is called a parse of $\\mathbf{w} \\in \\Sigma^∗$ if $\\mathrm{ROOT}$ is the label of its root and $\\mathbf{w}$ is its fringe\n",
    "- $\\mathbf{w}$: sentence\n",
    "- $w$: word in sentence\n",
    "- $n$: length of sentence\n",
    "- $\\mathcal{T}(\\mathbf{w})$: the set of all parses of $\\mathbf{w}$\n",
    "- $\\langle A, i, k\\rangle$ or $A_i^k$: anchored nonterminal $A$ from $i$ to $k$\n",
    "- $A_i^k \\to B_i^kC_i^k$ or $A_i^k \\to w_k$: anchord rule\n",
    "- $\\mathcal{G}$: grammer function that assign weighs (probabilities) to each CNF rule $T_t$ by $\\mathcal{G}(T_t)$ or CNF derivation $T$ by $\\mathcal{G}(T) = \\prod_{t \\in T}\\mathcal{G}(T_t)$.\n",
    "- $Z$: total weight\n",
    "- $\\beta[A_i^k]$: the total weight of all derivations with root A and fringe $w_{i+1}w_{i+2}\\dots w_k$"
   ]
  },
  {
   "cell_type": "markdown",
   "metadata": {},
   "source": [
    "# The inside algorithm\n",
    "\n",
    "The inside algorithm returns the total weight $Z$ of all parses of sentence $\\mathbf{w}$ according to a WCFG $\\mathcal{G}$.\n",
    "\n",
    "The inside algorithm computes $\\beta$ bottom-up. The total weight $Z$ is obtained by\n",
    "\n",
    "$Z = \\beta[\\mathrm{ROOT}_0^n]$\n",
    "\n",
    "A probability distribution $p(T|\\mathbf{w})$ over the parses $T \\in T(\\mathbf{w})$ is given by\n",
    "\n",
    "$p(T|\\mathbf{w}) \\overset{\\mathrm{def}}{=} \\mathcal{G}(T)/Z$"
   ]
  },
  {
   "cell_type": "markdown",
   "metadata": {},
   "source": [
    "# The inside-outside algorithm\n",
    "\n",
    "The inside-outside algorithm computes the expected count $c(R)$ of each rule $R \\in \\mathcal{R}$ in a random parse $T$ drawn from the distribution $p(T|\\mathbf{w})$.\n",
    "\n",
    "Let $f_R(T)$ be count of rule $R$ in parse $T$.\n",
    "\n",
    "$f_R(T) \\overset{\\mathrm{def}}{=} \\sum_{t \\in T}\\delta(T_t = R)$\n",
    "\n",
    "$c(R) \\overset{\\mathrm{def}}{=} \\sum_T p(T|\\mathbf{w}) \\cdot f_R(T) = \\sum_T \\left( p(T|\\mathbf{w})\\sum_{t \\in T}\\delta(T_t = R) \\right)$\n",
    "\n",
    "## The log-linear view\n",
    "\n",
    "\n",
    "The expected count $c(R)$ of rule $R$ in a parse $T$ is gradient of $\\log Z$.\n",
    "\n",
    "$c(R) = \\frac{\\partial \\log Z}{\\partial \\theta_R}$\n",
    "\n",
    "Here for $R \\in \\mathcal{R}$,\n",
    "\n",
    "$\\theta_R \\overset{\\mathrm{def}}{=} \\log\\mathcal{G}(R)$\n",
    "\n",
    "\n",
    "--- \n",
    "\n",
    "proof\n",
    "\n",
    "$p(T|\\mathbf{w}) = \\mathcal{G}(T)/Z$\n",
    "\n",
    "$ = \\frac{1}{Z}\\prod_{t \\in T}\\mathcal{G}(T_t)$\n",
    "\n",
    "$ = \\frac{1}{Z}\\prod_{t \\in T}\\exp\\log\\mathcal{G}(T_t)$\n",
    "\n",
    "$ = \\frac{1}{Z}\\exp\\sum_{t \\in T}\\theta_{T_t}$\n",
    "\n",
    "$ = \\frac{1}{Z}\\exp\\sum_{R \\in \\mathcal{R}}\\theta_{R} \\cdot f_R(T)$\n",
    "\n",
    "$\\sum_T p(T|\\mathbf{w}) = \\frac{1}{Z}\\sum_T\\exp\\sum_{R \\in \\mathcal{R}}\\theta_{R} \\cdot f_R(T)$\n",
    "\n",
    "$1 = \\frac{1}{Z}\\sum_T\\exp\\sum_{R \\in \\mathcal{R}}\\theta_{R} \\cdot f_R(T)$\n",
    "\n",
    "$0 = \\log\\sum_T\\exp\\sum_{R \\in \\mathcal{R}}\\theta_{R} \\cdot f_R(T) - \\log Z$\n",
    "\n",
    "$\\frac{\\partial \\log Z}{\\partial \\theta_R} = \\frac{1}{\\sum_T\\exp\\sum_{R \\in \\mathcal{R}}\\theta_{R} \\cdot f_R(T)}\\sum_Tf_R(T)\\exp\\sum_{R \\in \\mathcal{R}}\\theta_{R} \\cdot f_R(T)$\n",
    "\n",
    "$\\frac{\\partial \\log Z}{\\partial \\theta_R} = \\frac{1}{Z\\sum_T p(T|\\mathbf{w})}Z\\sum_Tf_R(T) p(T|\\mathbf{w})$\n",
    "\n",
    "$\\frac{\\partial \\log Z}{\\partial \\theta_R} = \\sum_Tf_R(T) p(T|\\mathbf{w})$\n",
    "\n",
    "$\\frac{\\partial \\log Z}{\\partial \\theta_R} = c(R)$\n"
   ]
  },
  {
   "cell_type": "markdown",
   "metadata": {},
   "source": [
    "## Outer weight\n",
    "\n",
    "The outer weight of a constituent $\\alpha[\\dots]$ is defined as ajoint of inner weight $ð\\beta[\\dots]$.\n",
    "\n",
    "$\\alpha[\\dots] \\overset{\\mathrm{def}}{=} ð\\beta[\\dots]$\n",
    "\n",
    "Similarly the outer weight of a rule $\\alpha[R]$ is defined as:\n",
    "\n",
    "$\\alpha[R] \\overset{\\mathrm{def}}{=} ð\\mathcal{G}(R)$\n",
    "\n",
    "Because $Z$ can be found as $\\beta[A_i^k] \\cdot \\alpha[A_i^k]$ plus the weights of some other parses that do not involve $\\beta[A_i^k]$\n",
    "\n",
    "$\\frac{\\partial Z}{\\partial \\beta[A_i^k]} = \\alpha[A_i^k]$\n",
    "\n",
    "This validate the above definition."
   ]
  },
  {
   "cell_type": "markdown",
   "metadata": {},
   "source": [
    "## Expected count as a result of the inside-outside algorithm\n",
    "\n",
    "$c(R) = \\frac{\\partial \\log Z}{\\partial \\theta_R}$\n",
    "\n",
    "$ = \\frac{\\partial \\log Z}{\\partial Z}\\frac{\\partial Z}{\\partial \\mathcal{G}(R)}\\frac{\\partial \\mathcal{G}(R)}{\\partial \\theta_R}$\n",
    "\n",
    "$ = \\frac{1}{Z} \\cdot \\alpha[R] \\cdot \\mathcal{G}(R)$\n",
    "\n",
    "Note that\n",
    "\n",
    "$\\theta_R \\overset{\\mathrm{def}}{=} \\log\\mathcal{G}(R)$\n",
    "\n",
    "$\\mathcal{G}(R) = \\exp\\theta_R$\n",
    "\n",
    "$\\frac{\\partial \\mathcal{G}(R)}{\\partial \\theta_R} = \\mathcal{G}(R)$"
   ]
  },
  {
   "cell_type": "markdown",
   "metadata": {},
   "source": [
    "## Back-propagation\n",
    "\n",
    "The partial derivative of $Z$ can be obtained with back-propagation.\n",
    "\n",
    "$ðx \\overset{\\mathrm{def}}{=} \\frac{\\partial Z}{\\partial x}$\n",
    "\n",
    "$x \\mathrel{+}= y_1 \\cdot y_2$\n",
    "\n",
    "$ðy_1 = ðx \\cdot y_2$\n",
    "\n",
    "$ðy_2 = y_1 \\cdot ðx$\n",
    "\n",
    "$\\beta[A_i^k] \\mathrel{+}= \\mathcal{G}(A \\to BC)\\beta[B_i^j]\\beta[B_j^k]$\n",
    "\n",
    "---\n",
    "\n",
    "$ð\\mathcal{G}(A \\to BC) \\mathrel{+}= ð\\beta[A_i^k]\\beta[B_i^j]\\beta[C_j^k]$\n",
    "\n",
    "$\\alpha[A \\to BC] \\mathrel{+}= \\alpha[A_i^k]\\beta[B_i^j]\\beta[C_j^k]$\n",
    "\n",
    "---\n",
    "\n",
    "$ð\\beta[B_i^j] \\mathrel{+}= \\mathcal{G}(A \\to BC)ð\\beta[A_i^k]\\beta[C_j^k]$\n",
    "\n",
    "$\\alpha[B_i^j] \\mathrel{+}= \\mathcal{G}(A \\to BC)\\alpha[A_i^k]\\beta[C_j^k]$\n",
    "\n",
    "---\n",
    "\n",
    "$ð\\beta[C_j^k] \\mathrel{+}= \\mathcal{G}(A \\to BC)\\beta[A_i^j]ð\\beta[A_i^k]$\n",
    "\n",
    "$\\alpha[C_j^k] \\mathrel{+}= \\mathcal{G}(A \\to BC)\\beta[A_i^j]\\alpha[A_i^k]$"
   ]
  },
  {
   "cell_type": "markdown",
   "metadata": {},
   "source": [
    "## Interpretations\n",
    "\n",
    "The total weight of all parses that contain $A_i^k$: \n",
    "$\\beta[A_i^k] \\cdot \\alpha[A_i^k]$\n",
    "\n",
    "The total probability of all parses that contain $A_i^k$: \n",
    "$\\beta[A_i^k] \\cdot \\alpha[A_i^k] / Z$\n",
    "\n",
    "The marginal probability of the anchored nonterminal $A_i^k$: \n",
    "$c(A_i^k) =  \\beta[A_i^k] \\cdot \\alpha[A_i^k] / Z$\n",
    "\n",
    "The total weight of all parses that contain $R$: $\\mathcal{G}(R) \\cdot \\alpha[R]$\n",
    "\n",
    "The expected count of rule $R$: $c(R) = \\mathcal{G}(R) \\cdot \\alpha[R] / Z$"
   ]
  },
  {
   "cell_type": "markdown",
   "metadata": {},
   "source": [
    "# backward algorithm\n",
    "\n",
    "The backward algorithm is a special case of inside algorithm."
   ]
  }
 ],
 "metadata": {
  "kernelspec": {
   "display_name": "Python 3",
   "language": "python",
   "name": "python3"
  },
  "language_info": {
   "codemirror_mode": {
    "name": "ipython",
    "version": 3
   },
   "file_extension": ".py",
   "mimetype": "text/x-python",
   "name": "python",
   "nbconvert_exporter": "python",
   "pygments_lexer": "ipython3",
   "version": "3.6.5"
  }
 },
 "nbformat": 4,
 "nbformat_minor": 2
}
