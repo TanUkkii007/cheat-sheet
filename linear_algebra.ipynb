{
 "cells": [
  {
   "cell_type": "markdown",
   "metadata": {},
   "source": [
    "# 表記\n",
    "\n",
    "\n"
   ]
  },
  {
   "cell_type": "markdown",
   "metadata": {},
   "source": [
    "# 特別な行列\n",
    "\n",
    "\n",
    "## 上三角行列\n",
    "\n",
    "補題: 上三角行列の固有値はその対角要素である。\n",
    "\n",
    "定理: 任意の正方行列Aは三角化可能であり、$Q^{-1}AQ$が上三角行列となるユニタリ−行列Qが存在する。\n",
    "\n",
    "上三角行列はすべての行列と相似である。"
   ]
  },
  {
   "cell_type": "markdown",
   "metadata": {},
   "source": [
    "# 固有値と固有ベクトル (eigenvalue and eigenvector)\n",
    "\n",
    "\n",
    "## 固有値(eigenvalue)と固有ベクトル(eigenvector)\n",
    "\n",
    "定義: $Av = \\lambda v$であるスカラー$\\lambda$とゼロでないベクトルvが存在するとき、$\\lambda$をAの**固有値**(eigenvalue)、vを**固有ベクトル**(eigenvector)という。\n",
    "\n",
    "## 特別な行列の固有値と固有ベクトル\n",
    "\n",
    "### 対角行列\n",
    "\n",
    "対角行列の固有値はその対角要素であり、固有ベクトルは標準基底ベクトルである。\n",
    "\n",
    "### 転置行列\n",
    "\n",
    "系: $\\lambda$がAの固有値なら、それは$A^\\top$の固有値でもある。\n",
    "\n",
    "### 対角化可能な行列\n",
    "\n",
    "補題: 正方行列Aが対角化可能であるならば、Aの固有値は$\\Lambda$の対角要素であり、固有ベクトルはSの列ベクトルである。固有ベクトルは線形独立である。ここで$\\Lambda$、Sは$S^{-1}AS = \\Lambda$を満たす対角行列と可逆な行列である。\n",
    "\n",
    "### 上三角行列\n",
    "\n",
    "補題: 上三角行列の対角要素はその固有値である。\n",
    "\n",
    "## 相似 (similarity)\n",
    "\n",
    "定義: 正方行列AとBは$S^{-1}AS = B$を満たすような逆行列Sが存在するとき、**相似**(similar)であるという\n",
    "\n",
    "## 相似な行列の性質\n",
    "\n",
    "命題: 相似な行列は同じ固有値をもつ\n",
    "\n",
    "## 対角化可能性 (diagonalizability)\n",
    "\n",
    "定義: 正方行列Aが対角行列と相似であるとき、Aは**対角化可能**(diagonalizable)であるという。\n",
    "\n",
    "つまりある対角行列$\\Lambda$に対し、$S^{-1}AS = \\Lambda$を満たすような可逆行列Sが存在するとき、Aは対角化可能である。\n",
    "\n",
    "\n",
    "## 対角化可能な条件\n",
    "\n",
    "定理: $n \\times n$行列は、それがn個の線形独立な固有ベクトルを持つとき、かつ、そのときに限り、対角化可能となる。\n",
    "\n",
    "定理: n個の異なる固有値をもつ$n \\times n$行列は対角化可能である。"
   ]
  }
 ],
 "metadata": {
  "kernelspec": {
   "display_name": "Python 3",
   "language": "python",
   "name": "python3"
  },
  "language_info": {
   "codemirror_mode": {
    "name": "ipython",
    "version": 3
   },
   "file_extension": ".py",
   "mimetype": "text/x-python",
   "name": "python",
   "nbconvert_exporter": "python",
   "pygments_lexer": "ipython3",
   "version": "3.5.4"
  }
 },
 "nbformat": 4,
 "nbformat_minor": 2
}
