{
 "cells": [
  {
   "cell_type": "markdown",
   "metadata": {},
   "source": [
    "# 表記\n",
    "\n",
    "- $P(X, Y)$: 同時確率 (joint probability)\n",
    "- $P(X | Y)$: 条件付き確率 (conditional probability)"
   ]
  },
  {
   "cell_type": "markdown",
   "metadata": {},
   "source": [
    "# 用語\n",
    "\n",
    "- 目的変数 (target variable): 予測したい変数で、関数の出力となる。従属変数とも言う。"
   ]
  },
  {
   "cell_type": "markdown",
   "metadata": {},
   "source": [
    "# 確率論\n",
    "\n",
    "## 加法定理 (sum rule)\n",
    "\n",
    "$p(X) = \\sum_Y p(X, Y)$\n",
    "\n",
    "$p(X)$は他の変数(Y)についての周辺化なので**周辺確率** (marginal probability)とも呼ばれる。\n",
    "\n",
    "## 乗法定理 (product rule)\n",
    "\n",
    "$p(X, Y) = P(Y | X)P(X)$\n",
    "\n",
    "## ベイズの定理 (Bayes's theorem)\n",
    "\n",
    "$P(Y | X) = \\frac{P(X | Y)P(Y)}{P(X)}$\n",
    "\n",
    "加法定理と乗法定理を使えば分母は分子に現れる量で表せる。\n",
    "\n",
    "$P(Y | X) = \\frac{P(X | Y)P(Y)}{\\sum_Y P(X | Y)P(Y)}$\n",
    "\n",
    "<p style=\"margin-left: 120px; font-size: 12px;\">\n",
    "$P(X, Y) = P(Y, X)$より、<br>\n",
    "\n",
    "$P(Y | X){P(X)} = P(X | Y)P(Y)$<br>\n",
    "\n",
    "$P(Y | X) = \\frac{P(X | Y)P(Y)}{P(X)}$\n",
    "</p>\n",
    "\n"
   ]
  },
  {
   "cell_type": "markdown",
   "metadata": {},
   "source": [
    "## 正則化\n",
    "\n",
    "正則化は過学習を抑制するテクニックである。正則化は誤差関数にペナルティー項を追加する。\n",
    "\n",
    "L2正則化は誤差関数に$\\frac{\\lambda}{2}\\|\\boldsymbol{w}\\|^2$を追加する。\n",
    "\n",
    "$\\boldsymbol{w}$のうち$w_0$（バイアス項）は正則化から外すことが多い。なぜなら$w_0$は目的変数の原点の選び方に依存しているからである。"
   ]
  },
  {
   "cell_type": "markdown",
   "metadata": {},
   "source": [
    "# 誤差関数\n",
    "\n",
    "## 二乗和誤差 (sum-of-squares error)\n",
    "\n",
    "$E(\\boldsymbol{w}) = \\frac{1}{2}\\sum_{n=1}^N(y(\\boldsymbol{w}) - t_n)^2$\n",
    "\n",
    "\n",
    "## 平均二乗平方根誤差 (root-mean-square error)\n",
    "\n",
    "$E(\\boldsymbol{w}) = \\sqrt{\\frac{1}{2}\\sum_{n=1}^N(y(\\boldsymbol{w}) - t_n)^2/N}$\n",
    "\n",
    "平均二乗平方根誤差は平方根をとっているため目的変数tと同じ単位になる。またデータ集合サイズNで割ることによりサイズの異なるデータ集合を比較することに使うことができる。"
   ]
  }
 ],
 "metadata": {
  "kernelspec": {
   "display_name": "Python 3",
   "language": "python",
   "name": "python3"
  },
  "language_info": {
   "codemirror_mode": {
    "name": "ipython",
    "version": 3
   },
   "file_extension": ".py",
   "mimetype": "text/x-python",
   "name": "python",
   "nbconvert_exporter": "python",
   "pygments_lexer": "ipython3",
   "version": "3.5.4"
  }
 },
 "nbformat": 4,
 "nbformat_minor": 2
}
