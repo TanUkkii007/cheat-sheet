{
 "cells": [
  {
   "cell_type": "markdown",
   "metadata": {},
   "source": [
    "# ガウス分布"
   ]
  },
  {
   "cell_type": "markdown",
   "metadata": {},
   "source": [
    "## 分散が既知の場合"
   ]
  },
  {
   "cell_type": "markdown",
   "metadata": {},
   "source": [
    "尤度関数: $p(\\mathbf{x}|\\mu) = \\prod_{n=1}^N p(x_n|\\mu)$\n",
    "\n",
    "事前分布: $p(\\mu) = \\mathcal{N}(\\mu|\\mu_0, \\sigma_0^2)$\n",
    "\n",
    "事後分布: $p(\\mu|\\mathbf{x})  = \\mathcal{N}(\\mu|\\mu_N, \\sigma_N^2)$\n",
    "\n",
    "$\\frac{1}{\\sigma_N^2} = \\frac{N}{\\sigma^2} + \\frac{1}{\\sigma_0^2}$\n",
    "\n",
    "$\\mu_N = \\frac{N\\sigma_0^2}{N\\sigma_0^2 + \\sigma^2}\\mu_{ML} + \\frac{\\sigma^2}{N\\sigma_0^2 + \\sigma^2}\\mu_0$\n",
    "\n",
    "$\\mu_{ML}  = \\frac{1}{N}\\sum_{n=1}^N x_n$\n"
   ]
  },
  {
   "cell_type": "markdown",
   "metadata": {},
   "source": [
    "事後分布の指数部分を展開し、$\\mu$について平方完成する。\n",
    "\n",
    "$-\\frac{1}{2\\sigma^2}\\sum_{n=1}^N(x_n - \\mu)^2 - \\frac{1}{2\\sigma_0^2}(\\mu - \\mu_0)^2 = -\\frac{1}{2\\sigma^2}\\sum_{n=1}^N(x_n^2 - 2x_n\\mu + \\mu^2) - \\frac{1}{2\\sigma_0^2}(\\mu - \\mu_0)^2$\n",
    "\n",
    "$ = -\\frac{1}{2}\\left(\\frac{1}{\\sigma^2}\\sum_{n=1}^N x_n^2 - \\frac{2\\mu}{\\sigma^2}\\sum_{n=1}^N x_n + \\frac{N}{\\sigma^2}\\mu^2 + \\frac{1}{\\sigma_0^2}\\mu^2 - \\frac{2\\mu_0}{\\sigma_0^2}\\mu + \\frac{\\mu_0^2}{\\sigma_0^2}\\right)$\n",
    "\n",
    "$\\mu_{ML} = \\frac{1}{N}\\sum_{n=1}^N x_n$より、\n",
    "\n",
    "$ = -\\frac{1}{2}\\left(\\frac{1}{\\sigma^2}\\sum_{n=1}^N x_n^2 - \\frac{2N\\mu_{ML}}{\\sigma^2}\\mu + \\frac{N}{\\sigma^2}\\mu^2 + \\frac{1}{\\sigma_0^2}\\mu^2 - \\frac{2\\mu_0}{\\sigma_0^2}\\mu + \\frac{\\mu_0^2}{\\sigma_0^2}\\right)$\n",
    "\n",
    "$ = -\\frac{1}{2}\\left(\\frac{N\\sigma_0^2 + \\sigma^2}{\\sigma_0^2\\sigma^2}\\mu^2 - \\frac{2N\\mu_{ML}\\sigma_0^2 + 2\\mu_0\\sigma^2}{\\sigma_0^2\\sigma^2}\\mu + \\frac{\\mu_0^2}{\\sigma_0^2} + \\frac{1}{\\sigma^2}\\sum_{n=1}^N x_n^2\\right)$\n",
    "\n",
    "平方完成の式\n",
    "\n",
    "$c_2x^2 + c_1x + c0 = -a(x - b)^2 + w$\n",
    "\n",
    "$-a = c_2, b = -\\frac{1}{2}\\frac{c_1}{c_2}, w = \\frac{1}{4}\\frac{c_1^2}{c_2} + c_0$\n",
    "\n",
    "より、\n",
    "\n",
    "$\\frac{1}{\\sigma_N^2} = -a$\n",
    "\n",
    "$ = \\frac{N\\sigma_0^2 + \\sigma^2}{\\sigma_0^2\\sigma^2} = \\frac{N}{\\sigma^2} + \\frac{1}{\\sigma_0^2}$\n",
    "\n",
    "$\\mu_N = b$\n",
    "\n",
    "$ = \\frac{1}{2}\\frac{2N\\mu_{ML}\\sigma_0^2 + 2\\mu_0\\sigma^2}{\\sigma_0^2\\sigma^2}\\frac{\\sigma_0^2\\sigma^2}{N\\sigma_0^2 + \\sigma^2} = (\\frac{N\\mu_{ML}}{\\sigma^2} + \\frac{\\mu_0}{\\sigma_0^2})\\frac{\\sigma_0^2\\sigma^2}{N\\sigma_0^2 + \\sigma^2} = \\frac{N\\sigma_0^2}{N\\sigma_0^2 + \\sigma^2}\\mu_{ML} + \\frac{\\sigma^2}{N\\sigma_0^2 + \\sigma^2}\\mu_0 $\n"
   ]
  }
 ],
 "metadata": {
  "kernelspec": {
   "display_name": "Python 3",
   "language": "python",
   "name": "python3"
  },
  "language_info": {
   "codemirror_mode": {
    "name": "ipython",
    "version": 3
   },
   "file_extension": ".py",
   "mimetype": "text/x-python",
   "name": "python",
   "nbconvert_exporter": "python",
   "pygments_lexer": "ipython3",
   "version": "3.6.7"
  }
 },
 "nbformat": 4,
 "nbformat_minor": 2
}
