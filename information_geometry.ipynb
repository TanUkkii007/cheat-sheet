{
 "cells": [
  {
   "cell_type": "markdown",
   "metadata": {},
   "source": [
    "# 表記\n",
    "\n",
    "- $M$: 多様体\n",
    "- $\\mathbf{\\xi}$: 多様体の局所座標系の座標\n",
    "- $D[P:Q]$: 点Pから点Qへのダイバージェンス\n",
    "- $D[\\mathbf{\\xi}_P: \\mathbf{\\xi}_Q]$: ２点P, Qの局所座標を$\\mathbf{\\xi}_P: \\mathbf{\\xi}_Q$としたときの点Pから点Qへのダイバージェンス\n"
   ]
  },
  {
   "cell_type": "markdown",
   "metadata": {},
   "source": [
    "# 多様体 (manifold)\n",
    "\n",
    "以下の条件を満たすハウスドルフ空間を多様体という\n",
    "\n",
    "- 全体が座標近傍と呼ばれる開集合で被覆される\n",
    "- 各座標近傍からn次元ユークリッド空間への同相写像がある\n",
    "\n",
    "多様体では１つの座標系で全体を覆うことができないので、いくつかの近傍を考え、その全体で多様体を被覆する。その近傍を座標近傍といい、座標近傍に対して座標系を導入する。\n"
   ]
  },
  {
   "cell_type": "markdown",
   "metadata": {},
   "source": [
    "# 多様体の例"
   ]
  },
  {
   "cell_type": "markdown",
   "metadata": {},
   "source": [
    "- ユークリッド空間\n",
    "- 確率分布の空間\n",
    "- 正測度空間\n",
    "- 行列の空間"
   ]
  },
  {
   "cell_type": "markdown",
   "metadata": {},
   "source": [
    "## 正測度空間\n",
    "\n",
    "確率分布の空間から束縛条件$\\sum_{i=0}^n p_i = 1$を取り除くと、それぞれの$p_i$に正の重みをつけたものの全体になり、ユークリッド空間の第一象限$\\mathbb{R}^{n+1}_+$に対応するn+1次元多様体になる。これを正測度空間という。\n",
    "\n",
    "もとの確率分布の空間は正測度空間の部分空間になる。\n",
    "\n",
    "正測度空間の例として、画像、音声のパワースペクトル、分布のヒストグラムがある。"
   ]
  },
  {
   "cell_type": "markdown",
   "metadata": {},
   "source": [
    "# 多様体上のダイバージェンス関数\n",
    "\n",
    "以下の３つの条件を満たす２点関数をダイバージェンスと呼ぶ。\n",
    "\n",
    "1. $D[P: Q] \\ge 0$\n",
    "1. $P=Q$のとき、かつこのときに限り、$D[P: Q] = 0$\n",
    "1. 互いに近い点Pと点Qがそれぞれ座標$\\mathbf{\\xi}, \\mathbf{\\xi} + d\\mathbf{\\xi}$をもつとき、ダイバージェンス$D[\\mathbf{\\xi}, \\mathbf{\\xi} + d\\mathbf{\\xi}]$のテイラー展開\n",
    "\n",
    "$D[\\mathbf{\\xi}, \\mathbf{\\xi} + d\\mathbf{\\xi}] = \\frac{1}{2}g_{ij}(\\mathbf{\\xi})d\\xi_id\\xi_j$\n",
    "\n",
    "に現れる２次の項の行列$G(\\mathbf{\\xi})_{ij} = g_{ij}(\\mathbf{\\xi})$は正定値行列である。\n",
    "\n",
    "ダイバージェンスは２点の分離度合いを表す。ダイバージェンスは非対称であり、一般に$D[P:Q] \\ne D[Q:P]$である。またダイバージェンスは座標の２乗の次元を持つ。"
   ]
  },
  {
   "cell_type": "markdown",
   "metadata": {},
   "source": [
    "## ダイバージェンスの例"
   ]
  },
  {
   "cell_type": "markdown",
   "metadata": {},
   "source": [
    "### ユークリッド空間のダイバージェンス\n",
    "\n",
    "ユークリッド空間のダイバージェンスは距離の２乗となる。\n",
    "\n",
    "$D[\\mathbf{\\xi}, \\mathbf{\\xi}'] = \\frac{1}{2}\\sum_i(\\xi_i - \\xi')^2$\n"
   ]
  },
  {
   "cell_type": "markdown",
   "metadata": {},
   "source": [
    "### Kullback-Leiblerダイバージェンス\n",
    "\n",
    "以下で定義される確率分布$p(x), q(x)$のダイバージェンスをKLダイバージェンスという。\n",
    "\n",
    "$D[p(x): q(x)] = \\int p(x)\\log\\frac{p(x)}{q(x)}dx$\n"
   ]
  },
  {
   "cell_type": "markdown",
   "metadata": {},
   "source": [
    "### $\\alpha$ダイバージェンス\n",
    "\n",
    "以下で定義される確率分布$p(x), q(x)$のダイバージェンスを$\\alpha$ダイバージェンスという。\n",
    "\n",
    "$D_\\alpha[p(x): q(x)] = \\frac{4}{1 - \\alpha^2}\\left\\{1 - \\int p(x)^{\\frac{1 - \\alpha}{2}}q(x)^{\\frac{1 + \\alpha}{2}}dx\\right\\}$\n",
    "\n",
    "$\\alpha$ダイバージェンスはKLダイバージェンスの拡張である。$\\alpha \\to 1$の極限の１ダイバージェンスはKL[q:p]、$\\alpha \\to -1$の極限の-１ダイバージェンスはKL[p:q]になる。"
   ]
  },
  {
   "cell_type": "markdown",
   "metadata": {},
   "source": [
    "### 正定値行列のダイバージェンス\n",
    "\n",
    "複数のダイバージェンスの定義が考えられる。特に\n",
    "\n",
    "$D[P:Q] = \\mathrm{Tr}(PQ^{-1}) - \\log \\mathrm{det}(PQ^{-1}) - n$\n",
    "\n",
    "は、以下のガウス分布のKLダイバージェンスにおいて、平均０、P, Qが分散行列となる場合である。\n",
    "また$\\alpha$ダイバージェンスも定義できる。\n",
    "\n",
    "$p \\sim \\mathcal{N}(\\mathbf{x}|\\mathbf{\\mu}, \\mathbf{\\Sigma})$, $q \\sim \\mathcal{N}(\\mathbf{x}|\\mathbf{m}, \\mathbf{L})$のとき、\n",
    "\n",
    "$\\mathrm{KL}[p: q] = \\frac{1}{2}\\left\\{\\ln\\mathrm{det}(\\mathbf{\\Sigma}\\mathbf{L}^{-1}) + \\mathrm{Tr}(\\mathbf{\\Sigma}\\mathbf{L}^{-1}) + (\\mathbf{\\mu} - \\mathbf{m})^\\top\\mathbf{L}^{-1}(\\mathbf{\\mu} - \\mathbf{m}) - D\\right\\}$"
   ]
  },
  {
   "cell_type": "markdown",
   "metadata": {},
   "source": [
    "### 正測度空間のダイバージェンス\n",
    "\n",
    "ユークリッド空間のダイバージェンスの他に、以下もダイバージェンスを満たす。\n",
    "\n",
    "$D[\\mathbf{\\xi}, \\mathbf{\\xi}'] = \\sum_i\\left\\{-\\log\\left(\\frac{\\xi_i'}{\\xi_i}\\right) - \\frac{\\xi_i'}{\\xi_i} - 1\\right\\}$\n",
    "\n",
    "また$\\alpha$ダイバージェンスも定義できる。"
   ]
  },
  {
   "cell_type": "markdown",
   "metadata": {},
   "source": [
    "## 凸関数とダイバージェンスの導出\n",
    "\n",
    "凸関数$\\psi(\\mathbf{\\xi})$を考える。点$\\mathbf{\\xi}'$で$\\psi(\\mathbf{\\xi}')$に接する接超平面は、\n",
    "\n",
    "$z = \\psi(\\mathbf{\\xi}') + \\nabla \\psi(\\mathbf{\\xi}') \\cdot (\\mathbf{\\xi} - \\mathbf{\\xi}')$\n",
    "\n",
    "となる。\n",
    "\n",
    "凸関数$\\psi(\\mathbf{\\xi})$が点$\\mathbf{\\xi}$で接平面$z$のどのぐらい上にあるかを表すものを、凸関数$\\psi(\\mathbf{\\xi})$から導かれる$\\mathbf{\\xi}$から$\\mathbf{\\xi}'$へのダイバージェンスという。\n",
    "\n",
    "$D[\\mathbf{\\xi}: \\mathbf{\\xi}'] = \\psi(\\mathbf{\\xi}) - z = \\psi(\\mathbf{\\xi}) - \\psi(\\mathbf{\\xi}') - \\nabla \\psi(\\mathbf{\\xi}') \\cdot (\\mathbf{\\xi} - \\mathbf{\\xi}')$\n",
    "\n",
    "ユークリッド距離の２乗$\\psi(\\mathbf{\\xi}) = \\frac{1}{2}\\sum_i\\xi_i^2$の場合、$D[\\mathbf{\\xi}: \\mathbf{\\xi}'] = \\frac{1}{2}\\sum_i(\\xi_i - \\xi'_i)^2$\n",
    "\n",
    "離散確率分布の負のエントロピー$\\psi(\\mathbf{p}) = \\sum_i p_i\\log p_i$の場合、$D[\\mathbf{p}: \\mathbf{q}] = \\sum_i p_i\\log\\frac{p_i}{q_i}$であり、これはKLダイバージェンスである。\n",
    "\n",
    "\n",
    "<p style=\"margin-left: 120px; font-size: 12px;\">\n",
    "\n",
    "$D[\\mathbf{p}: \\mathbf{q}] = \\sum_i p_i\\log p_i - \\sum_i q_i\\log q_i - \\sum_i(p_i - q_i)\\frac{\\partial}{\\partial p_i}\\sum_j p_j\\log p_j$<br>\n",
    "\n",
    "$ = \\sum_i p_i\\log p_i - \\sum_i q_i\\log q_i - \\sum_i (p_i - q_i)(\\log p_i + 1)$<br>\n",
    "\n",
    "$ = \\sum_i p_i\\log p_i - \\sum_i q_i\\log q_i - \\sum_i p_i\\log p_i - \\sum_i p_i + \\sum_i q_i\\log p_i + \\sum_i q_i$<br>\n",
    "\n",
    "$ = - \\sum_i q_i\\log q_i - 1 + \\sum_i q_i\\log p_i + 1$<br>\n",
    "\n",
    "$ = - \\sum_i q_i\\log \\frac{p_i}{q_i}$<br>\n",
    "\n",
    "</p>"
   ]
  }
 ],
 "metadata": {
  "kernelspec": {
   "display_name": "Python 3",
   "language": "python",
   "name": "python3"
  },
  "language_info": {
   "codemirror_mode": {
    "name": "ipython",
    "version": 3
   },
   "file_extension": ".py",
   "mimetype": "text/x-python",
   "name": "python",
   "nbconvert_exporter": "python",
   "pygments_lexer": "ipython3",
   "version": "3.6.3"
  }
 },
 "nbformat": 4,
 "nbformat_minor": 2
}
