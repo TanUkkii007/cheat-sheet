{
 "cells": [
  {
   "cell_type": "markdown",
   "metadata": {},
   "source": [
    "# Generative model"
   ]
  },
  {
   "cell_type": "markdown",
   "metadata": {},
   "source": [
    "## exponential family\n",
    "\n",
    "確率分布は以下の形をしていることが多い。\n",
    "\n",
    "$p(x) \\propto \\exp(-\\Phi(x))$\n"
   ]
  },
  {
   "cell_type": "markdown",
   "metadata": {},
   "source": [
    "##  likelihood, energy function\n",
    "\n",
    "$p(\\mathbf{\\theta}|X^n) = \\frac{1}{Z(\\mathbf{\\theta})}\\prod_i^N p(X_i|\\mathbf{\\theta})$\n",
    "\n",
    "$Z(\\mathbf{\\theta}) = \\sum_\\theta \\prod_i^N p(X_i|\\mathbf{\\theta})$\n"
   ]
  },
  {
   "cell_type": "markdown",
   "metadata": {},
   "source": [
    "# Restricted Boltzmann machine"
   ]
  },
  {
   "cell_type": "markdown",
   "metadata": {},
   "source": [
    "制約ボルツマンマシンは可視層と隠れ層からなる。同一層内での結合はなく、異層間の結合のみからなる。\n",
    "\n",
    "制約ボルツマンマシンのエネルギー関数は以下で与えられる。\n",
    "\n",
    "$\\Phi(\\mathbf{v}, \\mathbf{h};\\mathbf{\\theta}) = -\\sum_{i \\in \\mathcal{V}}b_i v_i - \\sum_{j \\in \\mathcal{H}}c_ih_j - \\sum_{i\\in \\mathcal{V} j \\in \\mathcal{H}} w_{ij}v_ih_j$\n",
    "\n",
    "それぞれ、可視層のバイアス項、隠れ層のバイアス項、可視層と隠れ層の結合項である。\n",
    "\n",
    "制約ボルツマンマシンの確率モデルは以下で与えられる。\n",
    "\n",
    "$p(\\mathbf{v}, \\mathbf{h}|\\mathbf{\\theta}) = \\frac{1}{Z(\\theta)}\\exp\\left( -\\Phi(\\mathbf{v}, \\mathbf{h};\\mathbf{\\theta}) \\right)$\n"
   ]
  },
  {
   "cell_type": "markdown",
   "metadata": {},
   "source": [
    "##  制約ボルツマンマシンの学習\n",
    "\n",
    "$p(\\mathbf{v}|\\mathbf{\\theta}) = \\sum_{\\mathbf{h}}p(\\mathbf{v}, \\mathbf{h}|\\mathbf{\\theta})$\n",
    "\n",
    "$ = \\frac{1}{Z(\\theta)}\\sum_{\\mathbf{h}}\\exp\\left( \\Phi(\\mathbf{v}, \\mathbf{h};\\mathbf{\\theta}) \\right)$\n",
    "\n",
    "$ = \\frac{1}{Z(\\theta)}\\sum_{\\mathbf{h}}\\exp\\left( \\sum_{i \\in \\mathcal{V}}b_i v_i + \\sum_{j \\in \\mathcal{H}}c_ih_j + \\sum_{i\\in \\mathcal{V} j \\in \\mathcal{H}} w_{ij}v_ih_j \\right)$\n",
    "\n",
    "$ = \\frac{1}{Z(\\theta)}\\exp\\left(\\sum_{i \\in \\mathcal{V}}b_i v_i \\right)\\sum_{\\mathbf{h}}\\exp\\left(\\sum_{j \\in \\mathcal{H}}c_ih_j + \\sum_{i\\in \\mathcal{V} j \\in \\mathcal{H}} w_{ij}v_ih_j \\right)$\n",
    "\n",
    "$ = \\frac{1}{Z(\\theta)}\\exp\\left( \\sum_{i \\in \\mathcal{V}}b_i v_i \\right)\\sum_{\\mathbf{h}}\\exp\\left\\{\\sum_{j \\in \\mathcal{H}}h_j \\left(\\sum_{i\\in \\mathcal{V}} c_i + w_{ij}v_i \\right) \\right\\}$\n",
    "\n",
    "$ = \\frac{1}{Z(\\theta)}\\exp\\left( \\sum_{i \\in \\mathcal{V}}b_i v_i \\right)\\sum_{\\mathbf{h}}\\prod_{j \\in \\mathcal{H}}\\exp\\left\\{h_j \\left(\\sum_{i\\in \\mathcal{V}} c_i + w_{ij}v_i \\right) \\right\\}$\n",
    "\n",
    "$ = \\frac{1}{Z(\\theta)}\\exp\\left( \\sum_{i \\in \\mathcal{V}}b_i v_i \\right)\\prod_{j \\in \\mathcal{H}}\\sum_{\\mathbf{h}}\\exp\\left\\{h_j \\left(\\sum_{i\\in \\mathcal{V}} c_i + w_{ij}v_i \\right) \\right\\}$\n",
    "\n",
    "$ = \\frac{1}{Z(\\theta)}\\exp\\left( \\sum_{i \\in \\mathcal{V}}b_i v_i \\right)\\prod_{j \\in \\mathcal{H}}\\sum_{\\mathbf{h}}\\exp(h_j)\\exp(\\lambda_j)$\n",
    "\n",
    "$ = \\frac{1}{Z(\\theta)}\\exp\\left( \\sum_{i \\in \\mathcal{V}}b_i v_i \\right)\\prod_{j \\in \\mathcal{H}} \\left\\{1 + \\exp(\\lambda_j) \\right\\}$\n",
    "\n",
    "$ = \\frac{1}{Z(\\theta)}\\exp\\left( \\sum_{i \\in \\mathcal{V}}b_i v_i + \\sum_{j \\in \\mathcal{H}}\\ln\\left(1 + \\exp(\\lambda_j)\\right)\\right)$\n",
    "\n",
    "可視変数の経験分布を\n",
    "\n",
    "$q_\\mathcal{D}(\\mathbf{v}) = \\frac{1}{N}\\sum_i^N \\delta(\\mathbf{v}, \\mathbf{v}_i)$\n",
    "\n",
    "$\\delta(\\mathbf{v}, \\mathbf{v}_i) = \\begin{cases}\n",
    "1 & \\mathbf{v} = \\mathbf{v}_i\\\\\n",
    "0 & \\mathbf{v} \\ne \\mathbf{v}_i\n",
    "\\end{cases}$\n",
    "\n",
    "とすると、\n",
    "\n",
    "$\\mathrm{KL}(p \\| q) = -\\sum_x p(x)\\ln \\frac{q(x)}{p(x)}$\n",
    "\n",
    "$\\mathrm{KL}(q_\\mathcal{D} \\| p) = -\\sum_\\mathbf{v} q_\\mathcal{D}(\\mathbf{v})\\ln \\frac{q_\\mathcal{D}(\\mathbf{v})}{p(\\mathbf{v}|\\mathbf{\\theta})}$\n",
    "\n",
    "$ = -\\sum_\\mathbf{v} \\left\\{q_\\mathcal{D}(\\mathbf{v})\\ln q_\\mathcal{D}(\\mathbf{v}) - q_\\mathcal{D}(\\mathbf{v})\\ln p(\\mathbf{v}|\\mathbf{\\theta})\\right\\}$\n",
    "\n",
    "$H[\\mathbf{v}] = \\sum_\\mathbf{v}q_\\mathcal{D}(\\mathbf{v})\\ln q_\\mathcal{D}(\\mathbf{v})$より、\n",
    "\n",
    "$\\mathrm{KL}(q_\\mathcal{D} \\| p) = -H[\\mathbf{v}] - q_\\mathcal{D}(\\mathbf{v})\\ln p(\\mathbf{v}|\\mathbf{\\theta})$\n",
    "\n",
    "$H[\\mathbf{v}]$は$\\theta$に依存しないので、\n",
    "\n",
    "$\\mathrm{argmin}_\\theta \\mathrm{KL}(q_\\mathcal{D} \\| p) = \\mathrm{argmax}_\\theta q_\\mathcal{D}(\\mathbf{v})\\ln p(\\mathbf{v}|\\mathbf{\\theta})$\n",
    "\n",
    "対数尤度関数は\n",
    "\n",
    "$L_\\mathcal{D}(\\mathbf{\\theta}) = \\sum_i\\ln p(\\mathbf{v}_i|\\theta) = N\\sum_{\\mathbf{v}}q(\\mathbf{v})\\ln p(\\mathbf{v}|\\mathbf{\\theta})$\n",
    "\n",
    "なので、\n",
    "\n",
    "$\\mathrm{argmin}_\\theta \\mathrm{KL}(q_\\mathcal{D} \\| p) = \\mathrm{argmax}_\\theta L_\\mathcal{D}(\\mathbf{\\theta})$\n"
   ]
  },
  {
   "cell_type": "markdown",
   "metadata": {},
   "source": [
    "# Markov random firld"
   ]
  },
  {
   "cell_type": "markdown",
   "metadata": {},
   "source": [
    "# Boltzmann machine"
   ]
  },
  {
   "cell_type": "markdown",
   "metadata": {},
   "source": [
    "# Autoencoder"
   ]
  },
  {
   "cell_type": "markdown",
   "metadata": {},
   "source": [
    "# Restricted Boltzmann machine as Autoencoder"
   ]
  }
 ],
 "metadata": {
  "kernelspec": {
   "display_name": "Python 3",
   "language": "python",
   "name": "python3"
  },
  "language_info": {
   "codemirror_mode": {
    "name": "ipython",
    "version": 3
   },
   "file_extension": ".py",
   "mimetype": "text/x-python",
   "name": "python",
   "nbconvert_exporter": "python",
   "pygments_lexer": "ipython3",
   "version": "3.6.5"
  }
 },
 "nbformat": 4,
 "nbformat_minor": 2
}
